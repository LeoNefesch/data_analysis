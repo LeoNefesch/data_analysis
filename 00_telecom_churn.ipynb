{
  "cells": [
    {
      "cell_type": "code",
      "execution_count": null,
      "metadata": {
        "id": "1JftrQewWzK5"
      },
      "outputs": [],
      "source": [
        "import pandas as pd\n",
        "import numpy as np"
      ]
    },
    {
      "cell_type": "code",
      "execution_count": null,
      "metadata": {
        "colab": {
          "base_uri": "https://localhost:8080/",
          "height": 305
        },
        "id": "BNXUEj7uW6Su",
        "outputId": "00595b39-4e57-4c11-c35e-3dd6b5467d9e"
      },
      "outputs": [],
      "source": [
        "df = pd.read_csv(\"https://github.com/LeoNefesch/data_analysis/blob/main/datasets/telecom_churn.csv\")\n",
        "df.head()"
      ]
    },
    {
      "cell_type": "code",
      "execution_count": null,
      "metadata": {
        "id": "x-AfEaA2Y0bl"
      },
      "outputs": [],
      "source": [
        "#показывать не 60*20, а 100*100 (строк*столбцов)\n",
        "pd.set_option('display.max_columns', 100)\n",
        "pd.set_option('display.max_rows', 100)"
      ]
    },
    {
      "cell_type": "code",
      "execution_count": null,
      "metadata": {
        "colab": {
          "base_uri": "https://localhost:8080/"
        },
        "id": "as00KIsEexkz",
        "outputId": "e623551d-8328-4b7e-d3b7-574342d71722"
      },
      "outputs": [],
      "source": [
        "#Размер нашего датафрейма (строк, столбцов)\n",
        "df.shape"
      ]
    },
    {
      "cell_type": "code",
      "execution_count": null,
      "metadata": {
        "colab": {
          "base_uri": "https://localhost:8080/"
        },
        "id": "jQ1a4DTle1dx",
        "outputId": "1b7c7347-9e22-48ca-d629-989634e65245"
      },
      "outputs": [],
      "source": [
        "#Названия столбцов\n",
        "df.columns"
      ]
    },
    {
      "cell_type": "code",
      "execution_count": null,
      "metadata": {
        "colab": {
          "base_uri": "https://localhost:8080/"
        },
        "id": "QfDJjr0kfQAa",
        "outputId": "8208c9be-b2bb-464f-a31e-b213b1cb267b"
      },
      "outputs": [],
      "source": [
        "#Основная информация по датафрейму (тип данных, есть ли пустые значения)\n",
        "df.info()"
      ]
    },
    {
      "cell_type": "code",
      "execution_count": null,
      "metadata": {
        "id": "M4Gg0YG1gmif"
      },
      "outputs": [],
      "source": [
        "#Заменить тип данных в столбце (у нас с bool на int64)\n",
        "df['Churn'] = df['Churn'].astype('int64')"
      ]
    },
    {
      "cell_type": "code",
      "execution_count": null,
      "metadata": {
        "colab": {
          "base_uri": "https://localhost:8080/",
          "height": 399
        },
        "id": "kE59bFSyndHX",
        "outputId": "d8f02992-50e1-4940-a677-98fc1c74dccf"
      },
      "outputs": [],
      "source": [
        "#статистика по числовым признакам (int64, float64)\n",
        "df.describe()"
      ]
    },
    {
      "cell_type": "code",
      "execution_count": null,
      "metadata": {
        "colab": {
          "base_uri": "https://localhost:8080/",
          "height": 175
        },
        "id": "N3lw_WqCnpMV",
        "outputId": "993ccbaa-8b63-4c14-c401-0bf8a825ba88"
      },
      "outputs": [],
      "source": [
        "#статистика по нечисловым признакам\n",
        "df.describe(include=['object', 'bool'])"
      ]
    },
    {
      "cell_type": "code",
      "execution_count": null,
      "metadata": {
        "colab": {
          "base_uri": "https://localhost:8080/"
        },
        "id": "3fauVHTIoovc",
        "outputId": "e71784ea-b53a-4b97-80e2-748251ece621"
      },
      "outputs": [],
      "source": [
        "#Распределение данных по целевому признаку Churn (отток клиентов). 0 - клиент лояльный, 1 - клиент ушёл\n",
        "df['Churn'].value_counts()"
      ]
    },
    {
      "cell_type": "code",
      "execution_count": null,
      "metadata": {
        "colab": {
          "base_uri": "https://localhost:8080/"
        },
        "id": "sb21zvTmpayI",
        "outputId": "ce94d71a-8d99-40ef-f4e9-77c84683e4f1"
      },
      "outputs": [],
      "source": [
        "#распределение пользователей по признаку Area code. Смотрим абсолютные частоты.\n",
        "df['Area code'].value_counts(normalize=True)"
      ]
    },
    {
      "cell_type": "code",
      "execution_count": null,
      "metadata": {
        "colab": {
          "base_uri": "https://localhost:8080/",
          "height": 305
        },
        "id": "n4tUrwZUrnZN",
        "outputId": "28e8173e-8ec3-4d51-9129-8ed7e1da564d"
      },
      "outputs": [],
      "source": [
        "#отсортируем датафрейм по одному столбцу, по убыванию, выведем первые 5 записей\n",
        "df.sort_values(by='Total day charge', ascending=False).head()"
      ]
    },
    {
      "cell_type": "code",
      "execution_count": null,
      "metadata": {
        "colab": {
          "base_uri": "https://localhost:8080/",
          "height": 305
        },
        "id": "sbOPHpnts5lS",
        "outputId": "d5774897-2a3f-45c7-e176-ee555b1bfa54"
      },
      "outputs": [],
      "source": [
        "#Сортировка по группе столбцов\n",
        "df.sort_values(by=['Churn','Total day charge'], ascending=[True,False]).head()"
      ]
    },
    {
      "cell_type": "code",
      "execution_count": null,
      "metadata": {
        "colab": {
          "base_uri": "https://localhost:8080/"
        },
        "id": "P4rvVqaptj2R",
        "outputId": "8ba553c1-49cd-4505-8f46-3a9de91e6026"
      },
      "outputs": [],
      "source": [
        "#какова доля нелояльных пользователей?\n",
        "df['Churn'].mean()"
      ]
    },
    {
      "cell_type": "code",
      "execution_count": null,
      "metadata": {
        "colab": {
          "base_uri": "https://localhost:8080/"
        },
        "id": "Xt9XHzjlvSJ_",
        "outputId": "dfa8f99b-759c-43ee-a0f7-6ff680d41918"
      },
      "outputs": [],
      "source": [
        "#ср.значения числовых признаков среди нелояльных пользователей\n",
        "df[df['Churn']==1].mean()"
      ]
    },
    {
      "cell_type": "code",
      "execution_count": null,
      "metadata": {
        "colab": {
          "base_uri": "https://localhost:8080/"
        },
        "id": "oRCXDGO3wZ03",
        "outputId": "6c0f0565-8ef5-4f29-eb8c-a854f91065e2"
      },
      "outputs": [],
      "source": [
        "#Средняя длительность телефон.разговора нелояльного пользователя днём\n",
        "df[df['Churn']==1]['Total day minutes'].mean()"
      ]
    },
    {
      "cell_type": "code",
      "execution_count": null,
      "metadata": {
        "colab": {
          "base_uri": "https://localhost:8080/"
        },
        "id": "MgQPeM1ByBOp",
        "outputId": "fcb85f30-3900-41d1-f204-f5f27e955396"
      },
      "outputs": [],
      "source": [
        "#макс.длина международного звонка лоял.пользователя, не пользующегося международным роумингом\n",
        "df[(df['Churn']==0)&(df['International plan']=='No')]['Total intl minutes'].max()"
      ]
    },
    {
      "cell_type": "code",
      "execution_count": null,
      "metadata": {
        "colab": {
          "base_uri": "https://localhost:8080/",
          "height": 237
        },
        "id": "QCicVljNzlxA",
        "outputId": "abf39a13-8489-46a7-dde9-fed9588e7dcc"
      },
      "outputs": [],
      "source": [
        "#срез строк с 0 по 5 включительно и указанных столбцов\n",
        "df.loc[0:5, 'State':'Area code']"
      ]
    },
    {
      "cell_type": "code",
      "execution_count": null,
      "metadata": {
        "colab": {
          "base_uri": "https://localhost:8080/",
          "height": 206
        },
        "id": "kL0wgust02Qo",
        "outputId": "0fd5fcbf-f279-442e-f47d-d5864d9affcc"
      },
      "outputs": [],
      "source": [
        "#срез строк с 0 по 5 не включительно (первые 5) и столбцов с 0 по 3 не включительно (первые 3)\n",
        "df.iloc[0:5, 0:3]"
      ]
    },
    {
      "cell_type": "code",
      "execution_count": null,
      "metadata": {
        "colab": {
          "base_uri": "https://localhost:8080/",
          "height": 179
        },
        "id": "dRXV9oqJ1Mhg",
        "outputId": "a6a50620-c63b-4dcf-ff7e-40e9f3d433ff"
      },
      "outputs": [],
      "source": [
        "#первая строка df\n",
        "df[:1]\n"
      ]
    },
    {
      "cell_type": "code",
      "execution_count": null,
      "metadata": {
        "colab": {
          "base_uri": "https://localhost:8080/",
          "height": 179
        },
        "id": "nSu27ThD1pkJ",
        "outputId": "d33627e4-2488-44ee-fc88-d8c49c61c61b"
      },
      "outputs": [],
      "source": [
        " #последняя строка df\n",
        " df[-1:]"
      ]
    },
    {
      "cell_type": "code",
      "execution_count": null,
      "metadata": {
        "colab": {
          "base_uri": "https://localhost:8080/"
        },
        "id": "tkV6F_2j2I_S",
        "outputId": "8edd073d-11ff-4f17-e4f1-1ff243fb23d0"
      },
      "outputs": [],
      "source": [
        "#применение функции к каждому столбцу - функция apply()\n",
        "df.apply(np.max)"
      ]
    },
    {
      "cell_type": "code",
      "execution_count": null,
      "metadata": {
        "colab": {
          "base_uri": "https://localhost:8080/",
          "height": 305
        },
        "id": "oQ9REnG43A7-",
        "outputId": "592d05db-41a6-4042-df74-2157dfd6f5a5"
      },
      "outputs": [],
      "source": [
        "#замена значений в каждой ячейке столбца, функция map с аргументом d - словарь {old_value: new_value}\n",
        "d = {\"No\": False, \"Yes\": True}\n",
        "df['International plan'] = df['International plan'].map(d)\n",
        "df.head()"
      ]
    },
    {
      "cell_type": "code",
      "execution_count": null,
      "metadata": {
        "colab": {
          "base_uri": "https://localhost:8080/",
          "height": 305
        },
        "id": "5pqDEUc552V_",
        "outputId": "3634ad26-5c26-4b00-ec8c-46225304964c"
      },
      "outputs": [],
      "source": [
        "#метод replace действует аналогично\n",
        "df = df.replace({'Voice mail plan': d})\n",
        "df.head()"
      ]
    },
    {
      "cell_type": "code",
      "execution_count": null,
      "metadata": {
        "colab": {
          "base_uri": "https://localhost:8080/",
          "height": 239
        },
        "id": "Pl-SK5p_6QzW",
        "outputId": "fb4ffeac-c0e4-4dbf-b1fc-6ac8623cc924"
      },
      "outputs": [],
      "source": [
        "#Группировка данных в зависимости от значения Churn, вывод статистики по трём столбцам в каж.группе\n",
        "columns_to_show = ['Total day minutes','Total eve minutes','Total night minutes']\n",
        "df.groupby(['Churn'])[columns_to_show].describe(percentiles=[])"
      ]
    },
    {
      "cell_type": "code",
      "execution_count": null,
      "metadata": {
        "colab": {
          "base_uri": "https://localhost:8080/",
          "height": 175
        },
        "id": "fhpYs0Db8pDp",
        "outputId": "9f20f418-389e-4276-81c1-a65bc35da61e"
      },
      "outputs": [],
      "source": [
        "#применим функцию agg, передав в кач-ве аргументов нужные нам стат.функции\n",
        "df.groupby(['Churn'])[columns_to_show].agg([np.mean,np.std,np.min,np.max])"
      ]
    },
    {
      "cell_type": "code",
      "execution_count": null,
      "metadata": {
        "colab": {
          "base_uri": "https://localhost:8080/",
          "height": 143
        },
        "id": "SwkXESu998_Y",
        "outputId": "cf14352e-74e3-454c-a53c-ebac4e165298"
      },
      "outputs": [],
      "source": [
        "#Таблица сопряженности по 2 признакам, функция crosstab, normalize=False -отн.частота,сколько раз встречается значение\n",
        "pd.crosstab(df['Churn'], df['International plan'], normalize=False)"
      ]
    },
    {
      "cell_type": "code",
      "execution_count": null,
      "metadata": {
        "colab": {
          "base_uri": "https://localhost:8080/",
          "height": 143
        },
        "id": "iNkhfyYeADH6",
        "outputId": "f3e81df6-542b-41b6-f85d-b21dd4758d2f"
      },
      "outputs": [],
      "source": [
        "#Таблица сопряжённости, заменим один признак (роуминг на голос.почту) и выведем абс.частоту (сумма=1)\n",
        "pd.crosstab(df['Churn'], df['Voice mail plan'], normalize=True)"
      ]
    },
    {
      "cell_type": "code",
      "execution_count": null,
      "metadata": {
        "colab": {
          "base_uri": "https://localhost:8080/",
          "height": 175
        },
        "id": "q1SwLnVWAyTh",
        "outputId": "10368dcf-afb4-41d4-eb72-172f4f28678c"
      },
      "outputs": [],
      "source": [
        "#Сводная таблица: смотрим среднее число дневных, вечерних и ночных звонков для разных регионов\n",
        "df.pivot_table(['Total day calls', 'Total eve calls', 'Total night calls'], ['Area code'], aggfunc='mean').head(10)"
      ]
    },
    {
      "cell_type": "code",
      "execution_count": null,
      "metadata": {
        "colab": {
          "base_uri": "https://localhost:8080/",
          "height": 305
        },
        "id": "T1uBcT_jDS1z",
        "outputId": "e5c244c4-da16-4b63-a08c-fd318acb8a2a"
      },
      "outputs": [],
      "source": [
        "#добавим в наш датафрэйм столбец с общим кол-вом звонков. total_calls - объект типа Series\n",
        "total_calls = df['Total day calls'] + df['Total eve calls'] + df['Total night calls'] + df['Total intl calls']\n",
        "df.insert(loc=len(df.columns), column='Total calls', value=total_calls)\n",
        "df.head()"
      ]
    },
    {
      "cell_type": "code",
      "execution_count": null,
      "metadata": {
        "colab": {
          "base_uri": "https://localhost:8080/",
          "height": 305
        },
        "id": "9ypSvNpwGLyg",
        "outputId": "8b1e7ea5-5d15-48c9-f664-ed8f69223914"
      },
      "outputs": [],
      "source": [
        "#более простой способ вставить новый столбец (не создавая явно объект Series)\n",
        "df['Total charge'] = df['Total day charge'] + df['Total eve charge'] + df['Total night charge'] + df['Total intl charge']\n",
        "df.head()"
      ]
    },
    {
      "cell_type": "code",
      "execution_count": null,
      "metadata": {
        "colab": {
          "base_uri": "https://localhost:8080/",
          "height": 305
        },
        "id": "fg0dr8unHHT-",
        "outputId": "cb14653e-dae0-4de0-8218-2ce150f671b7"
      },
      "outputs": [],
      "source": [
        "#сохраним полученный df в новую переменную\n",
        "total_df = df\n",
        "total_df.head()"
      ]
    },
    {
      "cell_type": "code",
      "execution_count": null,
      "metadata": {
        "colab": {
          "base_uri": "https://localhost:8080/",
          "height": 305
        },
        "id": "D1Tqd_ggJBkM",
        "outputId": "1daefe96-95d1-4047-f6c9-2926a24613d7"
      },
      "outputs": [],
      "source": [
        "#удалим из df добавленные столбцы. axis=1, если удаляем столбцы\n",
        "df = df.drop(['Total calls', 'Total charge'], axis=1)\n",
        "df.head()"
      ]
    },
    {
      "cell_type": "markdown",
      "metadata": {
        "id": "7_1E4lgXORVP"
      },
      "source": [
        "Оценим связь оттока с подключением международного роуминга"
      ]
    },
    {
      "cell_type": "code",
      "execution_count": null,
      "metadata": {
        "colab": {
          "base_uri": "https://localhost:8080/",
          "height": 175
        },
        "id": "lD7tPzVfJd_u",
        "outputId": "8cc6b033-3531-46cd-8025-a718b05b7aee"
      },
      "outputs": [],
      "source": [
        "pd.crosstab(df['Churn'], df['International plan'], margins=True)"
      ]
    },
    {
      "cell_type": "code",
      "execution_count": null,
      "metadata": {
        "id": "jvGKdjjzMdRu"
      },
      "outputs": [],
      "source": [
        "import seaborn as sns"
      ]
    },
    {
      "cell_type": "code",
      "execution_count": null,
      "metadata": {
        "colab": {
          "base_uri": "https://localhost:8080/",
          "height": 387
        },
        "id": "3FLIBqWwLkHY",
        "outputId": "b0815268-b4dd-4700-e759-bd684274f3c7"
      },
      "outputs": [],
      "source": [
        "sns.catplot(x='International plan', hue='Churn', kind= 'count', data=df)"
      ]
    },
    {
      "cell_type": "markdown",
      "metadata": {
        "id": "LcpNisV6M8c4"
      },
      "source": [
        "Из диаграммы видно, что доля нелояльных клиентов - почти половина из тех, кому подключили роуминг. Возможно, это из-за сильно возросших расходов на связь."
      ]
    },
    {
      "cell_type": "markdown",
      "metadata": {
        "id": "78rJLz-hPCwv"
      },
      "source": [
        "Обратим внимание на число обращений в сервисный центр"
      ]
    },
    {
      "cell_type": "code",
      "execution_count": null,
      "metadata": {
        "colab": {
          "base_uri": "https://localhost:8080/",
          "height": 175
        },
        "id": "xap_c1t8Nluc",
        "outputId": "8257d5d4-a6a3-4675-a674-e8d1839bb5f3"
      },
      "outputs": [],
      "source": [
        "pd.crosstab(df['Churn'], df['Customer service calls'], margins=True)"
      ]
    },
    {
      "cell_type": "code",
      "execution_count": null,
      "metadata": {
        "colab": {
          "base_uri": "https://localhost:8080/",
          "height": 387
        },
        "id": "AHonvfcvMRwu",
        "outputId": "810a4945-659f-4b7b-8824-0408e0ceee10"
      },
      "outputs": [],
      "source": [
        "sns.catplot(x='Customer service calls', hue='Churn', kind= 'count', data=df)"
      ]
    },
    {
      "cell_type": "markdown",
      "metadata": {
        "id": "cxh6y__7P5pA"
      },
      "source": [
        "Видно, что начиная с четвёртого звонка в сервисный центра доля оттока клиентов возрастает, начиная с пятого звонка - преобладает."
      ]
    },
    {
      "cell_type": "markdown",
      "metadata": {
        "id": "voGfymCoQoyD"
      },
      "source": [
        "Добавим в df бинарный признак - столбец с результатом сравнения \"Звонок в сервисный центр\" > 3 раз"
      ]
    },
    {
      "cell_type": "code",
      "execution_count": null,
      "metadata": {
        "colab": {
          "base_uri": "https://localhost:8080/",
          "height": 175
        },
        "id": "P6q6u4XkQJiI",
        "outputId": "50bbaa3e-548d-4aae-9842-2066bf5fbc68"
      },
      "outputs": [],
      "source": [
        "df['Many_service_calls'] = (df['Customer service calls']>3).astype('int')\n",
        "pd.crosstab(df['Many_service_calls'], df['Churn'], margins=True)"
      ]
    },
    {
      "cell_type": "code",
      "execution_count": null,
      "metadata": {
        "colab": {
          "base_uri": "https://localhost:8080/",
          "height": 387
        },
        "id": "T27vNM9kPoTb",
        "outputId": "40b0448b-e9c8-428b-fdf0-26bda0965c48"
      },
      "outputs": [],
      "source": [
        "sns.catplot(x='Many_service_calls', hue='Churn', kind= 'count', data=df)"
      ]
    },
    {
      "cell_type": "markdown",
      "metadata": {
        "id": "8CHYN-NETOlt"
      },
      "source": [
        "Объединим условия (подключение роуминга и звонки в сервисный центр) и построим сопряжённую таблицу"
      ]
    },
    {
      "cell_type": "code",
      "execution_count": null,
      "metadata": {
        "colab": {
          "base_uri": "https://localhost:8080/",
          "height": 143
        },
        "id": "TTYvK9PITJ7S",
        "outputId": "fd910fe9-5642-4440-f3c6-5aaa2fd418e2"
      },
      "outputs": [],
      "source": [
        "pd.crosstab(df['Many_service_calls']&df['International plan'],df['Churn'])"
      ]
    },
    {
      "cell_type": "markdown",
      "metadata": {
        "id": "dlLKdww5W3hY"
      },
      "source": [
        "Когда число звонков в сервисный центр больше 3 и подключен роуминг (и прогнозируя лояльность – в противном случае), можно ожидать около 85.8% правильных попаданий (False ошибаемся по двум параметрам всего (464 + 9 раз) из 3333 раз-14,2%)."
      ]
    },
    {
      "cell_type": "code",
      "execution_count": null,
      "metadata": {
        "id": "P-UoDxDSSK7k"
      },
      "outputs": [],
      "source": []
    }
  ],
  "metadata": {
    "colab": {
      "provenance": []
    },
    "kernelspec": {
      "display_name": "Python 3",
      "language": "python",
      "name": "python3"
    },
    "language_info": {
      "codemirror_mode": {
        "name": "ipython",
        "version": 3
      },
      "file_extension": ".py",
      "mimetype": "text/x-python",
      "name": "python",
      "nbconvert_exporter": "python",
      "pygments_lexer": "ipython3",
      "version": "3.9.5"
    }
  },
  "nbformat": 4,
  "nbformat_minor": 0
}
